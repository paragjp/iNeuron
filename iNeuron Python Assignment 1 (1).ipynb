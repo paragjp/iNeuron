{
 "cells": [
  {
   "cell_type": "markdown",
   "metadata": {},
   "source": [
    "# Parag Patankar iNeuron Python Assignment - 1"
   ]
  },
  {
   "cell_type": "markdown",
   "metadata": {},
   "source": [
    "#### Q1 Write a program which will find all such numbers which are divisible by 7 but are not a multiple of 5 between 2000 and 3200 both inclusive. The Number obtained should be printed on a comma-seperated on a single file"
   ]
  },
  {
   "cell_type": "markdown",
   "metadata": {},
   "source": [
    "### Solution 1"
   ]
  },
  {
   "cell_type": "code",
   "execution_count": 1,
   "metadata": {},
   "outputs": [
    {
     "name": "stdout",
     "output_type": "stream",
     "text": [
      "Program Completed ...\n"
     ]
    }
   ],
   "source": [
    "f= open(\"c:\\\\temp\\\\t1.txt\",\"w+\")\n",
    "for i in range(2000,3201):\n",
    "    if i%7==0 and i%5 !=0:\n",
    "        f.write(str(i)+\";\")\n",
    "\n",
    "f.close()\n",
    "print(\"Program Completed ...\")"
   ]
  },
  {
   "cell_type": "markdown",
   "metadata": {},
   "source": [
    "### Solution 2"
   ]
  },
  {
   "cell_type": "code",
   "execution_count": 4,
   "metadata": {},
   "outputs": [],
   "source": [
    "import csv\n",
    "l1=[]\n",
    "\n",
    "\n",
    "for i in range(2000,3201):\n",
    "    if i%7==0 and i%5 !=0:\n",
    "      l1=l1+[i]\n",
    "    \n",
    "with open(\"c:\\\\temp\\\\t2.txt\", \"w\") as f:\n",
    "   cw = csv.writer(f)\n",
    "   cw.writerows([l1])\n",
    "\n",
    "f.close()"
   ]
  },
  {
   "cell_type": "markdown",
   "metadata": {},
   "source": [
    "#### Q2 Write a Python program to accept the user's first and last name and then getting them printed in reverse order"
   ]
  },
  {
   "cell_type": "markdown",
   "metadata": {},
   "source": [
    "### Solution "
   ]
  },
  {
   "cell_type": "code",
   "execution_count": 5,
   "metadata": {},
   "outputs": [
    {
     "name": "stdout",
     "output_type": "stream",
     "text": [
      "Enter your First name: Parag\n",
      "Enter your Second name: Patankar\n",
      "Patankar Parag\n"
     ]
    }
   ],
   "source": [
    "while True:\n",
    "    f = input(\"Enter your First name: \")\n",
    "    s = input(\"Enter your Second name: \")\n",
    "    if f.isalpha() and s.isalpha():\n",
    "        print(s+ ' '+f)\n",
    "        break\n",
    "else :\n",
    "    print(\"Either First Name or Second Name or both not entered as String\")"
   ]
  },
  {
   "cell_type": "markdown",
   "metadata": {},
   "source": [
    "#### Q3 Write a Python program to find the volume of a sphere with diameter 12 cm."
   ]
  },
  {
   "cell_type": "code",
   "execution_count": 2,
   "metadata": {},
   "outputs": [
    {
     "name": "stdout",
     "output_type": "stream",
     "text": [
      "216.0\n",
      "904.78\n"
     ]
    }
   ],
   "source": [
    "import math\n",
    "\n",
    "d=12\n",
    "r=d/2\n",
    "\n",
    "V= 4/3*math.pi*(r**3)\n",
    "\n",
    "#print(r**3)\n",
    "print(round(V, 2))"
   ]
  },
  {
   "cell_type": "code",
   "execution_count": null,
   "metadata": {},
   "outputs": [],
   "source": []
  }
 ],
 "metadata": {
  "kernelspec": {
   "display_name": "Python 3",
   "language": "python",
   "name": "python3"
  },
  "language_info": {
   "codemirror_mode": {
    "name": "ipython",
    "version": 3
   },
   "file_extension": ".py",
   "mimetype": "text/x-python",
   "name": "python",
   "nbconvert_exporter": "python",
   "pygments_lexer": "ipython3",
   "version": "3.7.6"
  }
 },
 "nbformat": 4,
 "nbformat_minor": 4
}
